{
 "cells": [
  {
   "cell_type": "code",
   "execution_count": 1,
   "metadata": {
    "scrolled": true
   },
   "outputs": [],
   "source": [
    "from bs4 import BeautifulSoup as bs\n",
    "import os\n",
    "import json\n",
    "#conda install -c conda-forge langdetect\n",
    "# with anaconda 3 envir\n",
    "from langdetect import detect"
   ]
  },
  {
   "cell_type": "code",
   "execution_count": 2,
   "metadata": {},
   "outputs": [],
   "source": [
    "rssPath = '../resources'\n",
    "dataStorage = '../output/storage.json'"
   ]
  },
  {
   "cell_type": "code",
   "execution_count": 3,
   "metadata": {},
   "outputs": [],
   "source": [
    "def preProcess(dataPath):\n",
    "    data = []\n",
    "    #assumptions\n",
    "    #write it in the doc that we spilt all htmls into different files\n",
    "    # keep the courses without description, store them with desc = 'nothing to see here'\n",
    "    # if courses are available in both en and fr, keep the new title with english only\n",
    "    #remove leading space in the desc or title\n",
    "    \n",
    "    #https://stackoverflow.com/questions/16780158/search-within-tags-with-beautifulsoup-python\n",
    "    #https://stackoverflow.com/questions/19080957/how-to-remove-all-a-href-tags-from-text\n",
    "    #https://www.freecodecamp.org/news/how-to-scrape-websites-with-python-and-beautifulsoup-5946935d93fe/\n",
    "    #https://stackoverflow.com/questions/18337407/saving-utf-8-texts-in-json-dumps-as-utf8-not-as-u-escape-sequence\n",
    "\n",
    "    docId = 1\n",
    "    for html in os.listdir(dataPath):\n",
    "        ## temp, only process one file now\n",
    "        with open(os.path.join(dataPath,html)) as f:\n",
    "            print(os.path.join(dataPath,html))\n",
    "            file = bs(f,'html.parser')\n",
    "            mainDiv = file.find('div', attrs={'class':'sc_sccoursedescs'})\n",
    "\n",
    "            \n",
    "            for courseblock in mainDiv.find_all('div', attrs={'class':'courseblock'}):\n",
    "                container = dict()\n",
    "                container['docId'] = docId\n",
    "                    #print(docId)\n",
    "                docId = docId+1\n",
    "                title = courseblock.find('p',attrs={'class':'courseblocktitle noindent'}).string.rsplit('(',1)[0]\n",
    "                #print(title)\n",
    "                desc = courseblock.find('p',attrs={'class':'courseblockdesc noindent'})\n",
    "                if not desc is None:\n",
    "                    for a in desc.findAll('a'):\n",
    "                        a.replaceWithChildren()\n",
    "                            #for some reasons desc.string sometimes returns NONE even though there indeed texts\n",
    "                    container['desc'] = desc.text.strip()\n",
    "                else:\n",
    "                    container['desc'] = 'Nothing to see here'\n",
    "                if '/' not in title:\n",
    "                    container['title'] = title\n",
    "                else:\n",
    "                    string = title.rsplit('/',1)\n",
    "                    temp = string[0].split(' ')\n",
    "                    container['title'] = temp[0]+' '+temp[1]+string[1]\n",
    "                    #print(container['title'])\n",
    "                    \n",
    "                    \n",
    "                if detect(container['title']) == 'en':\n",
    "                    data.append(container)\n",
    "                \n",
    "    return data"
   ]
  },
  {
   "cell_type": "code",
   "execution_count": 4,
   "metadata": {},
   "outputs": [],
   "source": [
    "def getCorpus():    \n",
    "    data = preProcess(rssPath)\n",
    "    with open(dataStorage,'w') as f:\n",
    "            json.dump(data, f, sort_keys=True, indent=4,ensure_ascii=False)"
   ]
  }
 ],
 "metadata": {
  "kernelspec": {
   "display_name": "Python 3",
   "language": "python",
   "name": "python3"
  },
  "language_info": {
   "codemirror_mode": {
    "name": "ipython",
    "version": 3
   },
   "file_extension": ".py",
   "mimetype": "text/x-python",
   "name": "python",
   "nbconvert_exporter": "python",
   "pygments_lexer": "ipython3",
   "version": "3.7.4"
  }
 },
 "nbformat": 4,
 "nbformat_minor": 2
}
