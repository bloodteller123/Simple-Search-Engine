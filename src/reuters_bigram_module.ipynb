{
 "cells": [
  {
   "cell_type": "code",
   "execution_count": 15,
   "metadata": {},
   "outputs": [],
   "source": [
    "from nltk.corpus import reuters\n",
    "from nltk import bigrams\n",
    "import dictionary_building_module as db\n",
    "import json\n",
    "from collections import defaultdict,Counter,OrderedDict"
   ]
  },
  {
   "cell_type": "code",
   "execution_count": 20,
   "metadata": {},
   "outputs": [],
   "source": [
    "# corpusPath = '../output/test.json'\n",
    "corpusPath = '../output/reuterStorage.json'\n",
    "allTerms = '../output/terms.json'\n",
    "# allTerms = '../output/testTerms.json'\n",
    "\n",
    "#https://web.stanford.edu/~jurafsky/slp3/slides/LM_4.pdf\n",
    "#https://towardsdatascience.com/learning-nlp-language-models-with-real-data-cdff04c51c25\n",
    "#https://www.analyticsvidhya.com/blog/2019/08/comprehensive-guide-language-model-nlp-python-code/\n",
    "#https://stackoverflow.com/questions/46566402/forming-bigrams-of-words-in-list-of-sentences-and-counting-bigrams-using-python"
   ]
  },
  {
   "cell_type": "code",
   "execution_count": 54,
   "metadata": {
    "scrolled": true
   },
   "outputs": [],
   "source": [
    "def bigram():\n",
    "    with open (corpusPath,'r') as f:\n",
    "        file = json.load(f)\n",
    "        pre_model = defaultdict(lambda: defaultdict(lambda: 0))\n",
    "        model = defaultdict(lambda: defaultdict(lambda: 0))\n",
    "        m = dict()\n",
    "        i = 0\n",
    "        f = open(allTerms,'r')\n",
    "        terms = json.load(f)\n",
    "       # term = Counter(terms['terms'][0])\n",
    "        counter = Counter()\n",
    "        for t in terms['terms']:\n",
    "            for word in t:\n",
    "                counter.update({word:1})\n",
    "        f.close()\n",
    "        for doc in file:\n",
    "            # remove stop words, nltk tokenize\n",
    "            sentence = db.stopWordRemoval(db.tokenize(doc['desc']))\n",
    "            for w1,w2 in bigrams(sentence,pad_right=True, pad_left=True):\n",
    "                if not w1 is None and not w2 is None:\n",
    "                    pre_model[w1][w2] +=1\n",
    "\n",
    "\n",
    "            for w1, w2 in pre_model.items(): # only keep words with min frequenct > x \n",
    "                for k,v in w2.items():\n",
    "#                     if v > 4:\n",
    "                    if v > 0:\n",
    "                        model[w1][k] = v\n",
    "            \n",
    "\n",
    "    #         f = open(allTerms,'r')\n",
    "    #         terms = json.load(f)\n",
    "    #         term = Counter(terms[\"0\"])\n",
    "            # P(w2|w1) = Count(w1w2)/Count(W2)\n",
    "            for w1 in model:\n",
    "                # total_count should be number of counts of W2 \n",
    "\n",
    "                for w2 in model[w1]:\n",
    "                    total_count = counter[w2]\n",
    "\n",
    "                    model[w1][w2] = model[w1][w2]/total_count \n",
    "        return model"
   ]
  },
  {
   "cell_type": "code",
   "execution_count": 55,
   "metadata": {},
   "outputs": [],
   "source": [
    "def callOnce():\n",
    "    model = bigram()\n",
    "    with open('../output/bigramModel.json','w') as f:\n",
    "        json.dump(model, f, sort_keys=True, indent=4,ensure_ascii=False)"
   ]
  }
 ],
 "metadata": {
  "kernelspec": {
   "display_name": "Python 3",
   "language": "python",
   "name": "python3"
  },
  "language_info": {
   "codemirror_mode": {
    "name": "ipython",
    "version": 3
   },
   "file_extension": ".py",
   "mimetype": "text/x-python",
   "name": "python",
   "nbconvert_exporter": "python",
   "pygments_lexer": "ipython3",
   "version": "3.7.6"
  }
 },
 "nbformat": 4,
 "nbformat_minor": 2
}
