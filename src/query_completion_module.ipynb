{
 "cells": [
  {
   "cell_type": "code",
   "execution_count": 1,
   "metadata": {},
   "outputs": [],
   "source": [
    "import json"
   ]
  },
  {
   "cell_type": "code",
   "execution_count": 30,
   "metadata": {},
   "outputs": [],
   "source": [
    "# modelPath = '../output/testBigramModel.json'\n",
    "modelPath = '../output/bigramModel.json'\n",
    "limit = 6\n",
    "#https://stackoverflow.com/questions/35624064/sorting-dictionary-descending-in-python"
   ]
  },
  {
   "cell_type": "code",
   "execution_count": 35,
   "metadata": {},
   "outputs": [],
   "source": [
    "def findNext(query):\n",
    "    # Let's assume the query is of form \"abc cde \"\n",
    "    with open(modelPath,'r') as f:\n",
    "        file = json.load(f)\n",
    "        previousWord = query.split()[-1]\n",
    "        d = file[previousWord]\n",
    "        sortedProb = {k: v for k, v in sorted(d.items(), key=lambda item: item[1],reverse=True)}\n",
    "        return [query + x for x in list(sortedProb)[0:limit]]"
   ]
  },
  {
   "cell_type": "code",
   "execution_count": 19,
   "metadata": {},
   "outputs": [
    {
     "data": {
      "text/plain": [
       "['stock', 'Dow', 'United']"
      ]
     },
     "execution_count": 19,
     "metadata": {},
     "output_type": "execute_result"
    }
   ],
   "source": [
    "list(newf)[0:3]"
   ]
  },
  {
   "cell_type": "code",
   "execution_count": 37,
   "metadata": {},
   "outputs": [
    {
     "data": {
      "text/plain": [
       "['U.S. would tolerate',\n",
       " 'U.S. would correspond',\n",
       " 'U.S. would endanger',\n",
       " 'U.S. would prefer',\n",
       " 'U.S. would harm',\n",
       " 'U.S. would soar']"
      ]
     },
     "execution_count": 37,
     "metadata": {},
     "output_type": "execute_result"
    }
   ],
   "source": [
    "findNext(\"U.S. would \")"
   ]
  }
 ],
 "metadata": {
  "kernelspec": {
   "display_name": "Python 3",
   "language": "python",
   "name": "python3"
  },
  "language_info": {
   "codemirror_mode": {
    "name": "ipython",
    "version": 3
   },
   "file_extension": ".py",
   "mimetype": "text/x-python",
   "name": "python",
   "nbconvert_exporter": "python",
   "pygments_lexer": "ipython3",
   "version": "3.7.4"
  }
 },
 "nbformat": 4,
 "nbformat_minor": 2
}
