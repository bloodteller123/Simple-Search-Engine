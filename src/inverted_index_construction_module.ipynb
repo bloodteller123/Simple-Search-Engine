{
 "cells": [
  {
   "cell_type": "code",
   "execution_count": 89,
   "metadata": {
    "collapsed": true,
    "jupyter": {
     "outputs_hidden": true
    },
    "scrolled": true
   },
   "outputs": [
    {
     "name": "stderr",
     "output_type": "stream",
     "text": [
      "[nltk_data] Downloading package punkt to /Users/chenzihan/nltk_data...\n",
      "[nltk_data]   Package punkt is already up-to-date!\n",
      "[nltk_data] Downloading package stopwords to\n",
      "[nltk_data]     /Users/chenzihan/nltk_data...\n",
      "[nltk_data]   Package stopwords is already up-to-date!\n"
     ]
    },
    {
     "data": {
      "text/plain": [
       "<module 'dictionary_building_module' from '/Users/chenzihan/D/CSI4107/Simple-Search-Engine/src/dictionary_building_module.py'>"
      ]
     },
     "execution_count": 89,
     "metadata": {},
     "output_type": "execute_result"
    }
   ],
   "source": [
    "import dictionary_building_module as db\n",
    "import importlib\n",
    "import os\n",
    "import json\n",
    "import operator\n",
    "importlib.reload(db)"
   ]
  },
  {
   "cell_type": "code",
   "execution_count": 90,
   "metadata": {},
   "outputs": [],
   "source": [
    "#https://stackoverflow.com/questions/4233476/sort-a-list-by-multiple-attributes\n",
    "#https://stackoverflow.com/questions/45340785/update-counter-collection-in-python-with-string-not-letter\n",
    "#https://www.programiz.com/python-programming/methods/dictionary/update\n",
    "#https://docs.python.org/3.3/howto/sorting.html"
   ]
  },
  {
   "cell_type": "code",
   "execution_count": 91,
   "metadata": {},
   "outputs": [],
   "source": [
    "indexPath = '../output/index.json'"
   ]
  },
  {
   "cell_type": "code",
   "execution_count": 92,
   "metadata": {},
   "outputs": [],
   "source": [
    "def getTermsAndFrequency():\n",
    "    return db.extractTerms()"
   ]
  },
  {
   "cell_type": "code",
   "execution_count": 93,
   "metadata": {},
   "outputs": [],
   "source": [
    "# word -> [[list of docIds],[list of frequencies(map to docId)]]\n",
    "def buildIndex():\n",
    "    terms,frequency,t = getTermsAndFrequency()\n",
    "    with open('../output/terms.json','w') as f:\n",
    "        json.dump({\"terms\":t}, f, sort_keys=True, indent=4,ensure_ascii=False)\n",
    "     #return a posting list dict (with weight in it)\n",
    "    l,p = buildTermIdPairAndTotalPostings(terms)\n",
    "    # sort list based on term\n",
    "    l = sorted(l, key = operator.itemgetter(0))\n",
    "    return buildPostings(l,frequency,p)\n",
    "        "
   ]
  },
  {
   "cell_type": "code",
   "execution_count": 94,
   "metadata": {},
   "outputs": [],
   "source": [
    "# not sure if we need this func\n",
    "\n",
    "# #frequency is for each docID, term counts for each term\n",
    "# def calculateDFPerTerm(frequency):\n",
    "#     counter = Counter()\n",
    "#     for k,v in frequency.items():\n",
    "# #     print(v)\n",
    "#         for x in v:\n",
    "#             counter.update({x:v[x]})\n",
    "#             # frequency of \n",
    "#     return counter"
   ]
  },
  {
   "cell_type": "code",
   "execution_count": 95,
   "metadata": {},
   "outputs": [],
   "source": [
    "def buildPostings(pairContainer,frequency,totalPostings):\n",
    "    postings = dict()\n",
    "#     for pair in pairContainer:\n",
    "#         term = pair[0]\n",
    "#         if term not in postings:\n",
    "#             postings[term]=[]\n",
    "\n",
    "#        #print(postings)\n",
    "#         for p in pairContainer:\n",
    "#             if p[0] in postings: # curious why if p[0] in postings and p[1] not in postings[p[0]] gives wrong result\n",
    "#                 if p[1] not in postings[p[0]]:\n",
    "#                     #p[0] is term, here we append corresponding docId and frequency of word in that doc as tuple\n",
    "#                     postings[p[0]].append((p[1],frequency[p[1]]))\n",
    "#             else:\n",
    "#                 break\n",
    "    for pair in pairContainer:\n",
    "        term=pair[0]\n",
    "        if term not in postings:\n",
    "            postings[term] = []\n",
    "            # [(docIds, wordCounts in that doc normalized by doc length)]\n",
    "            # well.... when dumps into json, tuple becomes lisst\n",
    "        postings[term].append((pair[1], frequency[pair[1]][term]))\n",
    "    # remove duplicates: if a word appear more than once in a doc, above algo will append it more than once\n",
    "    for k,v in postings.items():\n",
    "        postings.update({k:sorted(list(set(v)))})\n",
    "    return postings"
   ]
  },
  {
   "cell_type": "code",
   "execution_count": 96,
   "metadata": {},
   "outputs": [],
   "source": [
    "# terms => terms[docId] = list(terms)\n",
    "def buildTermIdPairAndTotalPostings(terms):\n",
    "    listContainer = []\n",
    "    postings = []\n",
    "    for k,v in terms.items():\n",
    "        #k is docId, v is list of terms\n",
    "        for d in v:\n",
    "            #[term,id]\n",
    "            pair = [d,k]\n",
    "            listContainer.append(pair)\n",
    "            postings.append(k)\n",
    "    # return a list of term/docID pair\n",
    "    return listContainer, sorted(list(set(postings)))"
   ]
  },
  {
   "cell_type": "code",
   "execution_count": 97,
   "metadata": {},
   "outputs": [],
   "source": [
    "#get call if the file doesn;t exist (I think..)\n",
    "def getIndex():\n",
    "    index = buildIndex()\n",
    "    with open(indexPath,'w') as f:\n",
    "        json.dump(index, f, sort_keys=True, indent=4,ensure_ascii=False)"
   ]
  }
 ],
 "metadata": {
  "kernelspec": {
   "display_name": "Python 3",
   "language": "python",
   "name": "python3"
  },
  "language_info": {
   "codemirror_mode": {
    "name": "ipython",
    "version": 3
   },
   "file_extension": ".py",
   "mimetype": "text/x-python",
   "name": "python",
   "nbconvert_exporter": "python",
   "pygments_lexer": "ipython3",
   "version": "3.7.4"
  }
 },
 "nbformat": 4,
 "nbformat_minor": 4
}
