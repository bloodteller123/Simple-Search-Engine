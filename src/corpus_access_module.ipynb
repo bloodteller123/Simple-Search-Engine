{
 "cells": [
  {
   "cell_type": "code",
   "execution_count": 21,
   "metadata": {},
   "outputs": [],
   "source": [
    "import os\n",
    "import json"
   ]
  },
  {
   "cell_type": "code",
   "execution_count": 52,
   "metadata": {},
   "outputs": [],
   "source": [
    "corpus = '../output/storage.json'\n",
    "excerptLength = 50"
   ]
  },
  {
   "cell_type": "code",
   "execution_count": 56,
   "metadata": {},
   "outputs": [],
   "source": [
    "def getDocs(docIds):\n",
    "    docIds.sort()\n",
    "    if os.path.exists(corpus):\n",
    "        output = []\n",
    "        with open(corpus, 'r') as file:\n",
    "            f = json.load(file)\n",
    "            l = [d for d in f if d['docId'] in docIds]\n",
    "        for course in l:\n",
    "            s = course['desc']\n",
    "            d = dict()\n",
    "            if len(s) > excerptLength:\n",
    "                s = s[:excerptLength]+'...'\n",
    "                d['link'] = course['docId']\n",
    "                d['title'] = course['title']\n",
    "            d['desc'] = s\n",
    "            output.append(d)\n",
    "    return output"
   ]
  },
  {
   "cell_type": "code",
   "execution_count": 57,
   "metadata": {},
   "outputs": [],
   "source": [
    "#docIds = [1,3,2,4]"
   ]
  },
  {
   "cell_type": "code",
   "execution_count": 58,
   "metadata": {
    "collapsed": true
   },
   "outputs": [
    {
     "data": {
      "text/plain": [
       "[{'docId': 1,\n",
       "  'title': 'ADM 1100 Introduction to Business Management ',\n",
       "  'desc': 'This course provides the student with the basic kn...'},\n",
       " {'docId': 2,\n",
       "  'title': 'ADM 1101 Social Context of Business ',\n",
       "  'desc': 'The course situates business within its changing s...'},\n",
       " {'docId': 3,\n",
       "  'title': 'ADM 1300 Introduction to Business Management ',\n",
       "  'desc': 'This course provides the student with the basic kn...'},\n",
       " {'docId': 4,\n",
       "  'title': 'ADM 1301 Social Context of Business ',\n",
       "  'desc': 'The course situates business within its changing s...'}]"
      ]
     },
     "execution_count": 58,
     "metadata": {},
     "output_type": "execute_result"
    }
   ],
   "source": [
    "#getDocs(docIds)"
   ]
  }
 ],
 "metadata": {
  "kernelspec": {
   "display_name": "Python 3",
   "language": "python",
   "name": "python3"
  },
  "language_info": {
   "codemirror_mode": {
    "name": "ipython",
    "version": 3
   },
   "file_extension": ".py",
   "mimetype": "text/x-python",
   "name": "python",
   "nbconvert_exporter": "python",
   "pygments_lexer": "ipython3",
   "version": "3.7.4"
  }
 },
 "nbformat": 4,
 "nbformat_minor": 2
}
