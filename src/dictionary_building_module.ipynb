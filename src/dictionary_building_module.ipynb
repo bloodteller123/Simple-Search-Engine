{
 "cells": [
  {
   "cell_type": "code",
   "execution_count": 172,
   "metadata": {
    "scrolled": false
   },
   "outputs": [
    {
     "name": "stderr",
     "output_type": "stream",
     "text": [
      "[nltk_data] Downloading package punkt to /Users/chenzihan/nltk_data...\n",
      "[nltk_data]   Package punkt is already up-to-date!\n",
      "[nltk_data] Downloading package stopwords to\n",
      "[nltk_data]     /Users/chenzihan/nltk_data...\n",
      "[nltk_data]   Package stopwords is already up-to-date!\n"
     ]
    },
    {
     "data": {
      "text/plain": [
       "True"
      ]
     },
     "execution_count": 172,
     "metadata": {},
     "output_type": "execute_result"
    }
   ],
   "source": [
    "import corpus_preprocess_module as cp\n",
    "import nltk\n",
    "import json\n",
    "import importlib\n",
    "import string\n",
    "from langdetect import detect,DetectorFactory\n",
    "from collections import Counter\n",
    "import re\n",
    "importlib.reload(cp)\n",
    "nltk.download('punkt')\n",
    "#nltk.download('wordnet')\n",
    "nltk.download('stopwords')"
   ]
  },
  {
   "cell_type": "code",
   "execution_count": 173,
   "metadata": {},
   "outputs": [],
   "source": [
    "storagePath = cp.dataStorage\n",
    "stopWordFlag = True\n",
    "wordStemmingFlag = True\n",
    "normalizationFlag = True\n",
    "ps = nltk.stem.PorterStemmer()\n",
    "#DetectorFactory.seed = 0\n",
    "#https://stackoverflow.com/questions/265960/best-way-to-strip-punctuation-from-a-string\n",
    "#https://stackoverflow.com/questions/1254370/reimport-a-module-in-python-while-interactive\n",
    "#https://pythonprogramming.net/stemming-nltk-tutorial/\n",
    "#https://stackoverflow.com/questions/2600191/how-can-i-count-the-occurrences-of-a-list-item\n",
    "#https://stackoverflow.com/questions/17542152/python-split-without-creating-blanks\n",
    "#https://stackoverflow.com/questions/21696649/filtering-out-strings-that-only-contains-digits-and-or-punctuation-python"
   ]
  },
  {
   "cell_type": "code",
   "execution_count": 65,
   "metadata": {},
   "outputs": [],
   "source": [
    "def toggleStopWordFlag():\n",
    "    return not stopWordFlag"
   ]
  },
  {
   "cell_type": "code",
   "execution_count": 66,
   "metadata": {},
   "outputs": [],
   "source": [
    "def toggleWordStemmingFlag():\n",
    "    return not wordStemmingFlag"
   ]
  },
  {
   "cell_type": "code",
   "execution_count": 67,
   "metadata": {},
   "outputs": [],
   "source": [
    "def toggleNormalizationFlag():\n",
    "    return not normalizationFlag"
   ]
  },
  {
   "cell_type": "code",
   "execution_count": 68,
   "metadata": {},
   "outputs": [],
   "source": [
    "def getTermsForBoolean():\n",
    "    return termsForBoolean"
   ]
  },
  {
   "cell_type": "code",
   "execution_count": 177,
   "metadata": {},
   "outputs": [],
   "source": [
    "def extractTerms():\n",
    "    # encoding=\"utf8\" is required on win \n",
    "    data = dict()\n",
    "    container = dict()\n",
    "    termsForBoolean = []\n",
    "    with open(storagePath, 'r') as file:\n",
    "        f = json.load(file)\n",
    "        for d in f:\n",
    "            terms = tokenize(d['desc'])\n",
    "            terms = stopWordRemoval(terms)\n",
    "            termsForBoolean.append(terms)\n",
    "            \n",
    "            terms = wordStemming(terms)\n",
    "            terms = normalization(terms)\n",
    "            frequencyPerDoc(container,terms,d['docId'])\n",
    "            #print(terms)\n",
    "            data[d['docId']] = terms\n",
    "    \n",
    "    return data,container,termsForBoolean"
   ]
  },
  {
   "cell_type": "code",
   "execution_count": 178,
   "metadata": {},
   "outputs": [],
   "source": [
    "def tokenize(data):\n",
    "    desc = removeFrenchWords(data)\n",
    "    tokens = [i for i in nltk.word_tokenize(desc) if not all(j in set(string.punctuation) for j in i)]\n",
    "    #\n",
    "    #return list(set(tokens))\n",
    "    return tokens\n",
    "    "
   ]
  },
  {
   "cell_type": "code",
   "execution_count": 179,
   "metadata": {},
   "outputs": [],
   "source": [
    "def removeFrenchWords(desc):\n",
    "    newTokens = []\n",
    "    newDesc = \"\"\n",
    "   # desctemp = re.sub('[/]', '', desc)\n",
    "    desctemp = desc.replace('/','').split('.')\n",
    "    for d in desctemp:\n",
    "        if d and (detect(d) == 'en' or detect(d) == 'ca'):\n",
    "            newDesc = newDesc+d\n",
    "    return newDesc"
   ]
  },
  {
   "cell_type": "code",
   "execution_count": 180,
   "metadata": {},
   "outputs": [],
   "source": [
    "def stopWordRemoval(data):\n",
    "    newData = []\n",
    "    if stopWordFlag:\n",
    "        for d in data:\n",
    "            if d.lower() not in nltk.corpus.stopwords.words('english'):\n",
    "                newData.append(d)\n",
    "        #logic for removing stopwords\n",
    "    else:\n",
    "        return data\n",
    "    return newData"
   ]
  },
  {
   "cell_type": "code",
   "execution_count": 181,
   "metadata": {},
   "outputs": [],
   "source": [
    "def wordStemming(data):\n",
    "    newData = []\n",
    "    if wordStemmingFlag:\n",
    "        #business logic\n",
    "        for d in data:\n",
    "            newData.append(ps.stem(d))\n",
    "    else:\n",
    "        return data\n",
    "    return newData"
   ]
  },
  {
   "cell_type": "code",
   "execution_count": 182,
   "metadata": {},
   "outputs": [],
   "source": [
    "def normalization(data):\n",
    "    if normalizationFlag:\n",
    "        #logic\n",
    "        newData = [x.translate(str.maketrans('','','-.')) for x in data if x.translate(str.maketrans('','','-.'))!='']\n",
    "        #print('nor')\n",
    "    else:\n",
    "        return data\n",
    "    return newData"
   ]
  },
  {
   "cell_type": "code",
   "execution_count": 183,
   "metadata": {},
   "outputs": [],
   "source": [
    "def pre_dictionary_building():\n",
    "    cp.getCorpus()"
   ]
  },
  {
   "cell_type": "code",
   "execution_count": 184,
   "metadata": {},
   "outputs": [],
   "source": [
    "#dict('docId') -> dict{'word':frequency}\n",
    "def frequencyPerDoc(container,terms,docId):\n",
    "    container[docId] = Counter(terms)\n",
    "    return container"
   ]
  }
 ],
 "metadata": {
  "kernelspec": {
   "display_name": "Python 3",
   "language": "python",
   "name": "python3"
  },
  "language_info": {
   "codemirror_mode": {
    "name": "ipython",
    "version": 3
   },
   "file_extension": ".py",
   "mimetype": "text/x-python",
   "name": "python",
   "nbconvert_exporter": "python",
   "pygments_lexer": "ipython3",
   "version": "3.7.4"
  }
 },
 "nbformat": 4,
 "nbformat_minor": 2
}
