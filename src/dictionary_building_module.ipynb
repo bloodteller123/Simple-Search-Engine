{
 "cells": [
  {
   "cell_type": "code",
   "execution_count": 9,
   "metadata": {
    "scrolled": true
   },
   "outputs": [
    {
     "name": "stderr",
     "output_type": "stream",
     "text": [
      "[nltk_data] Downloading package punkt to /Users/chenzihan/nltk_data...\n",
      "[nltk_data]   Package punkt is already up-to-date!\n",
      "[nltk_data] Downloading package stopwords to\n",
      "[nltk_data]     /Users/chenzihan/nltk_data...\n",
      "[nltk_data]   Package stopwords is already up-to-date!\n"
     ]
    },
    {
     "data": {
      "text/plain": [
       "True"
      ]
     },
     "execution_count": 9,
     "metadata": {},
     "output_type": "execute_result"
    }
   ],
   "source": [
    "import corpus_preprocess_module as cp\n",
    "import nltk\n",
    "import json\n",
    "import importlib\n",
    "import string\n",
    "from langdetect import detect \n",
    "from collections import Counter\n",
    "import re\n",
    "importlib.reload(cp)\n",
    "nltk.download('punkt')\n",
    "#nltk.download('wordnet')\n",
    "nltk.download('stopwords')"
   ]
  },
  {
   "cell_type": "code",
   "execution_count": 2,
   "metadata": {},
   "outputs": [],
   "source": [
    "storagePath = cp.dataStorage\n",
    "stopWordFlag = True\n",
    "wordStemmingFlag = True\n",
    "normalizationFlag = True\n",
    "ps = nltk.stem.PorterStemmer()\n",
    "#https://stackoverflow.com/questions/265960/best-way-to-strip-punctuation-from-a-string\n",
    "#https://stackoverflow.com/questions/1254370/reimport-a-module-in-python-while-interactive\n",
    "#https://pythonprogramming.net/stemming-nltk-tutorial/\n",
    "#https://stackoverflow.com/questions/2600191/how-can-i-count-the-occurrences-of-a-list-item\n",
    "#https://stackoverflow.com/questions/17542152/python-split-without-creating-blanks\n",
    "#https://stackoverflow.com/questions/21696649/filtering-out-strings-that-only-contains-digits-and-or-punctuation-python"
   ]
  },
  {
   "cell_type": "code",
   "execution_count": 3,
   "metadata": {},
   "outputs": [],
   "source": [
    "def toggleStopWordFlag():\n",
    "    return not stopWordFlag"
   ]
  },
  {
   "cell_type": "code",
   "execution_count": 4,
   "metadata": {},
   "outputs": [],
   "source": [
    "def toggleWordStemmingFlag():\n",
    "    return not wordStemmingFlag"
   ]
  },
  {
   "cell_type": "code",
   "execution_count": 5,
   "metadata": {},
   "outputs": [],
   "source": [
    "def toggleNormalizationFlag():\n",
    "    return not normalizationFlag"
   ]
  },
  {
   "cell_type": "code",
   "execution_count": 13,
   "metadata": {},
   "outputs": [],
   "source": [
    "def extractTerms():\n",
    "    # encoding=\"utf8\" is required on win \n",
    "    data = dict()\n",
    "    container = dict()\n",
    "    with open(storagePath, 'r') as file:\n",
    "        f = json.load(file)\n",
    "        for d in f:\n",
    "            terms = tokenize(d['desc'])\n",
    "            terms = stopWordRemoval(terms)\n",
    "            terms = wordStemming(terms)\n",
    "            terms = normalization(terms)\n",
    "            frequencyPerDoc(container,terms,d['docId'])\n",
    "            #print(terms)\n",
    "            data[d['docId']] = terms\n",
    "            \n",
    "    return data,container"
   ]
  },
  {
   "cell_type": "code",
   "execution_count": 6,
   "metadata": {},
   "outputs": [],
   "source": [
    "def tokenize(data):\n",
    "    desc = removeFrenchWords(data)\n",
    "    tokens = [i for i in nltk.word_tokenize(desc) if not all(j in set(string.punctuation) for j in i)]\n",
    "    #\n",
    "    #return list(set(tokens))\n",
    "    return tokens\n",
    "    "
   ]
  },
  {
   "cell_type": "code",
   "execution_count": 30,
   "metadata": {},
   "outputs": [],
   "source": [
    "def removeFrenchWords(desc):\n",
    "    newTokens = []\n",
    "    newDesc = \"\"\n",
    "    desctemp = re.sub('[/]', '', desc)\n",
    "    for d in filter(None, desctemp.split('.')):\n",
    "        if detect(d) == 'en':\n",
    "            newDesc = newDesc+\"\"+d\n",
    "    return newDesc"
   ]
  },
  {
   "cell_type": "code",
   "execution_count": 31,
   "metadata": {
    "scrolled": true
   },
   "outputs": [
    {
     "data": {
      "text/plain": [
       "'A course of independent study under the supervision of a member of the School of Computer Science  This course is equivalent to COMP 5901 at Carleton University'"
      ]
     },
     "execution_count": 31,
     "metadata": {},
     "output_type": "execute_result"
    }
   ],
   "source": [
    "removeFrenchWords(\"A course of independent study under the supervision of a member of the School of Computer Science. Ce cours est équivalent à COMP 5901 à la Carleton University. / This course is equivalent to COMP 5901 at Carleton University.\")"
   ]
  },
  {
   "cell_type": "code",
   "execution_count": 8,
   "metadata": {},
   "outputs": [],
   "source": [
    "def stopWordRemoval(data):\n",
    "    newData = []\n",
    "    if stopWordFlag:\n",
    "        for d in data:\n",
    "            if d.lower() not in nltk.corpus.stopwords.words('english'):\n",
    "                newData.append(d)\n",
    "        #logic for removing stopwords\n",
    "    else:\n",
    "        return data\n",
    "    return newData"
   ]
  },
  {
   "cell_type": "code",
   "execution_count": 9,
   "metadata": {},
   "outputs": [],
   "source": [
    "def wordStemming(data):\n",
    "    newData = []\n",
    "    if wordStemmingFlag:\n",
    "        #business logic\n",
    "        for d in data:\n",
    "            newData.append(ps.stem(d))\n",
    "    else:\n",
    "        return data\n",
    "    return newData"
   ]
  },
  {
   "cell_type": "code",
   "execution_count": 10,
   "metadata": {},
   "outputs": [],
   "source": [
    "def normalization(data):\n",
    "    if normalizationFlag:\n",
    "        #logic\n",
    "        newData = [x.translate(str.maketrans('','','-.')) for x in data if x.translate(str.maketrans('','','-.'))!='']\n",
    "        #print('nor')\n",
    "    else:\n",
    "        return data\n",
    "    return newData"
   ]
  },
  {
   "cell_type": "code",
   "execution_count": 26,
   "metadata": {},
   "outputs": [],
   "source": [
    "def pre_dictionary_building():\n",
    "    cp.getCorpus()"
   ]
  },
  {
   "cell_type": "code",
   "execution_count": 11,
   "metadata": {},
   "outputs": [],
   "source": [
    "#dict('docId') -> dict{'word':frequency}\n",
    "def frequencyPerDoc(container,terms,docId):\n",
    "    container[docId] = Counter(terms)\n",
    "    return container\n",
    "    "
   ]
  },
  {
   "cell_type": "code",
   "execution_count": 227,
   "metadata": {},
   "outputs": [],
   "source": [
    "b = ['one','three','one','four','five','six','six','one','nine']\n",
    "c = ['three','one','one','one','ten','seven','one','one','nine','two','two','three']\n",
    "d = ['right','cool','fuck','computer','go','what','the','hee']"
   ]
  },
  {
   "cell_type": "code",
   "execution_count": 228,
   "metadata": {},
   "outputs": [],
   "source": [
    "dic = dict()\n",
    "dic[1] = Counter(b)\n",
    "dic[2] = Counter(c)\n",
    "dic[3] = Counter(d)"
   ]
  },
  {
   "cell_type": "code",
   "execution_count": 243,
   "metadata": {
    "collapsed": true
   },
   "outputs": [
    {
     "data": {
      "text/plain": [
       "{1: Counter({'one': 3, 'three': 1, 'four': 1, 'five': 1, 'six': 2, 'nine': 1}),\n",
       " 2: Counter({'three': 2, 'one': 5, 'ten': 1, 'seven': 1, 'nine': 1, 'two': 2}),\n",
       " 3: Counter({'right': 1,\n",
       "          'cool': 1,\n",
       "          'fuck': 1,\n",
       "          'computer': 1,\n",
       "          'go': 1,\n",
       "          'what': 1,\n",
       "          'the': 1,\n",
       "          'hee': 1})}"
      ]
     },
     "execution_count": 243,
     "metadata": {},
     "output_type": "execute_result"
    }
   ],
   "source": [
    "dic"
   ]
  },
  {
   "cell_type": "code",
   "execution_count": 241,
   "metadata": {
    "collapsed": true
   },
   "outputs": [
    {
     "name": "stdout",
     "output_type": "stream",
     "text": [
      "Counter({'one': 3, 'six': 2, 'three': 1, 'four': 1, 'five': 1, 'nine': 1})\n",
      "Counter({'one': 5, 'three': 2, 'two': 2, 'ten': 1, 'seven': 1, 'nine': 1})\n",
      "Counter({'right': 1, 'cool': 1, 'fuck': 1, 'computer': 1, 'go': 1, 'what': 1, 'the': 1, 'hee': 1})\n"
     ]
    }
   ],
   "source": [
    "counter = Counter()\n",
    "for k,v in dic.items():\n",
    "    print(v)\n",
    "    for x in v:\n",
    "        counter.update({x:v[x]})"
   ]
  },
  {
   "cell_type": "code",
   "execution_count": 242,
   "metadata": {
    "collapsed": true
   },
   "outputs": [
    {
     "data": {
      "text/plain": [
       "Counter({'one': 8,\n",
       "         'three': 3,\n",
       "         'four': 1,\n",
       "         'five': 1,\n",
       "         'six': 2,\n",
       "         'nine': 2,\n",
       "         'ten': 1,\n",
       "         'seven': 1,\n",
       "         'two': 2,\n",
       "         'right': 1,\n",
       "         'cool': 1,\n",
       "         'fuck': 1,\n",
       "         'computer': 1,\n",
       "         'go': 1,\n",
       "         'what': 1,\n",
       "         'the': 1,\n",
       "         'hee': 1})"
      ]
     },
     "execution_count": 242,
     "metadata": {},
     "output_type": "execute_result"
    }
   ],
   "source": [
    "counter"
   ]
  },
  {
   "cell_type": "code",
   "execution_count": 18,
   "metadata": {},
   "outputs": [
    {
     "data": {
      "text/plain": [
       "'fr'"
      ]
     },
     "execution_count": 18,
     "metadata": {},
     "output_type": "execute_result"
    }
   ],
   "source": [
    "detect(\"Ce cours est équivalent à COMP 5901 à la Carleton University\")"
   ]
  },
  {
   "cell_type": "code",
   "execution_count": null,
   "metadata": {},
   "outputs": [],
   "source": []
  }
 ],
 "metadata": {
  "kernelspec": {
   "display_name": "Python 3",
   "language": "python",
   "name": "python3"
  },
  "language_info": {
   "codemirror_mode": {
    "name": "ipython",
    "version": 3
   },
   "file_extension": ".py",
   "mimetype": "text/x-python",
   "name": "python",
   "nbconvert_exporter": "python",
   "pygments_lexer": "ipython3",
   "version": "3.7.4"
  }
 },
 "nbformat": 4,
 "nbformat_minor": 2
}
