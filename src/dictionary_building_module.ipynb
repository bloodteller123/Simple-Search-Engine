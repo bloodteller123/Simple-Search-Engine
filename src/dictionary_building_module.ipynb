{
 "cells": [
  {
   "cell_type": "code",
   "execution_count": 108,
   "metadata": {
    "collapsed": true
   },
   "outputs": [
    {
     "name": "stderr",
     "output_type": "stream",
     "text": [
      "[nltk_data] Downloading package punkt to /Users/chenzihan/nltk_data...\n",
      "[nltk_data]   Package punkt is already up-to-date!\n",
      "[nltk_data] Downloading package wordnet to\n",
      "[nltk_data]     /Users/chenzihan/nltk_data...\n",
      "[nltk_data]   Package wordnet is already up-to-date!\n",
      "[nltk_data] Downloading package stopwords to\n",
      "[nltk_data]     /Users/chenzihan/nltk_data...\n",
      "[nltk_data]   Unzipping corpora/stopwords.zip.\n"
     ]
    },
    {
     "data": {
      "text/plain": [
       "True"
      ]
     },
     "execution_count": 108,
     "metadata": {},
     "output_type": "execute_result"
    }
   ],
   "source": [
    "import corpus_preprocess_module as cp\n",
    "import nltk\n",
    "import json\n",
    "import importlib\n",
    "import string\n",
    "from langdetect import detect \n",
    "importlib.reload(cp)\n",
    "nltk.download('punkt')\n",
    "#nltk.download('wordnet')\n",
    "nltk.download('stopwords')"
   ]
  },
  {
   "cell_type": "code",
   "execution_count": 193,
   "metadata": {},
   "outputs": [],
   "source": [
    "storagePath = dataStorage\n",
    "stopWordFlag = True\n",
    "wordStemmingFlag = True\n",
    "normalizationFlag = True\n",
    "ps = nltk.stem.PorterStemmer()\n",
    "#https://stackoverflow.com/questions/265960/best-way-to-strip-punctuation-from-a-string\n",
    "#https://stackoverflow.com/questions/1254370/reimport-a-module-in-python-while-interactive\n",
    "#https://pythonprogramming.net/stemming-nltk-tutorial/\n",
    "#https://stackoverflow.com/questions/21696649/filtering-out-strings-that-only-contains-digits-and-or-punctuation-python"
   ]
  },
  {
   "cell_type": "code",
   "execution_count": 16,
   "metadata": {},
   "outputs": [],
   "source": [
    "def toggleStopWordFlag():\n",
    "    return not stopWordFlag"
   ]
  },
  {
   "cell_type": "code",
   "execution_count": 17,
   "metadata": {},
   "outputs": [],
   "source": [
    "def toggleWordStemmingFlag():\n",
    "    return not wordStemmingFlag"
   ]
  },
  {
   "cell_type": "code",
   "execution_count": 18,
   "metadata": {},
   "outputs": [],
   "source": [
    "def toggleNormalizationFlag():\n",
    "    return not normalizationFlag"
   ]
  },
  {
   "cell_type": "code",
   "execution_count": 141,
   "metadata": {},
   "outputs": [],
   "source": [
    "def extractTerms():\n",
    "    # encoding=\"utf8\" is required on win \n",
    "    data = dict()\n",
    "    with open(storagePath, 'r') as file:\n",
    "        f = json.load(file)\n",
    "        for d in f:\n",
    "            terms = tokenize(d['desc'])\n",
    "            terms = stopWordRemoval(terms)\n",
    "            terms = wordStemming(terms)\n",
    "            terms = normalization(terms)\n",
    "            #print(terms)\n",
    "            data[d['docId']] = terms\n",
    "    return data"
   ]
  },
  {
   "cell_type": "code",
   "execution_count": 142,
   "metadata": {},
   "outputs": [],
   "source": [
    "def tokenize(data):\n",
    "    desc = removeFrenchWords(data)\n",
    "    tokens = [i for i in nltk.word_tokenize(desc) if not all(j in set(string.punctuation) for j in i)]\n",
    "    return list(set(tokens))\n",
    "    "
   ]
  },
  {
   "cell_type": "code",
   "execution_count": 97,
   "metadata": {},
   "outputs": [],
   "source": [
    "def removeFrenchWords(desc):\n",
    "    newTokens = []\n",
    "    newDesc = \"\"\n",
    "    descs = desc.split('/')\n",
    "    for d in descs:\n",
    "        if detect(d) == 'en':\n",
    "            newDesc = newDesc+\" \"+d\n",
    "    return newDesc"
   ]
  },
  {
   "cell_type": "code",
   "execution_count": 119,
   "metadata": {},
   "outputs": [],
   "source": [
    "def stopWordRemoval(data):\n",
    "    newData = []\n",
    "    if stopWordFlag:\n",
    "        for d in data:\n",
    "            if d.lower() not in nltk.corpus.stopwords.words('english'):\n",
    "                newData.append(d)\n",
    "        #logic for removing stopwords\n",
    "    else:\n",
    "        return data\n",
    "    return newData"
   ]
  },
  {
   "cell_type": "code",
   "execution_count": 206,
   "metadata": {},
   "outputs": [],
   "source": [
    "def wordStemming(data):\n",
    "    newData = []\n",
    "    if wordStemmingFlag:\n",
    "        #business logic\n",
    "        for d in data:\n",
    "            newData.append(ps.stem(d))\n",
    "    else:\n",
    "        return data\n",
    "    return newData"
   ]
  },
  {
   "cell_type": "code",
   "execution_count": 189,
   "metadata": {},
   "outputs": [],
   "source": [
    "def normalization(data):\n",
    "    if normalizationFlag:\n",
    "        #logic\n",
    "        newData = [x.translate(str.maketrans('','','-.')) for x in data if x.translate(str.maketrans('','','-.'))!='']\n",
    "        print('nor')\n",
    "    else:\n",
    "        return data\n",
    "    return newData"
   ]
  },
  {
   "cell_type": "code",
   "execution_count": 26,
   "metadata": {},
   "outputs": [],
   "source": [
    "def pre_dictionary_building():\n",
    "    cp.getCorpus()"
   ]
  }
 ],
 "metadata": {
  "kernelspec": {
   "display_name": "Python 3",
   "language": "python",
   "name": "python3"
  },
  "language_info": {
   "codemirror_mode": {
    "name": "ipython",
    "version": 3
   },
   "file_extension": ".py",
   "mimetype": "text/x-python",
   "name": "python",
   "nbconvert_exporter": "python",
   "pygments_lexer": "ipython3",
   "version": "3.7.4"
  }
 },
 "nbformat": 4,
 "nbformat_minor": 2
}
