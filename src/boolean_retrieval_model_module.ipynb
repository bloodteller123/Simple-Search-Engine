{
 "cells": [
  {
   "cell_type": "code",
   "execution_count": 130,
   "metadata": {},
   "outputs": [
    {
     "name": "stdout",
     "output_type": "stream",
     "text": [
      "Counter({'one': 3, 'six': 2, 'three': 1, 'four': 1, 'five': 1, 'nine': 1})\n",
      "Counter({'one': 5, 'three': 2, 'two': 2, 'ten': 1, 'seven': 1, 'nine': 1})\n",
      "Counter({'right': 1, 'cool': 1, 'fuck': 1, 'computer': 1, 'go': 1, 'what': 1, 'the': 1, 'hee': 1})\n"
     ]
    },
    {
     "name": "stderr",
     "output_type": "stream",
     "text": [
      "[nltk_data] Downloading package punkt to /Users/chenzihan/nltk_data...\n",
      "[nltk_data]   Package punkt is already up-to-date!\n",
      "[nltk_data] Downloading package stopwords to\n",
      "[nltk_data]     /Users/chenzihan/nltk_data...\n",
      "[nltk_data]   Package stopwords is already up-to-date!\n"
     ]
    }
   ],
   "source": [
    "import inverted_index_construction_module as iic\n",
    "import importlib\n",
    "importlib.reload(iic)\n",
    "import os\n",
    "import json"
   ]
  },
  {
   "cell_type": "code",
   "execution_count": 109,
   "metadata": {},
   "outputs": [],
   "source": [
    "s = 'printer AND ( laser OR ink )'\n",
    "#https://stackoverflow.com/questions/1059559/split-strings-into-words-with-multiple-word-boundary-delimiters\n",
    "#https://runestone.academy/runestone/books/published/pythonds/BasicDS/InfixPrefixandPostfixExpressions.html\n",
    "#https://stackoverflow.com/questions/1720421/how-do-i-concatenate-two-lists-in-python\n",
    "#https://stackoverflow.com/questions/3697432/how-to-find-list-intersection\n",
    "#Assume there are always spaces between Brackets and words, all connectors are cap\n",
    "# NOT is phrased as AND_NOT as shown in description"
   ]
  },
  {
   "cell_type": "code",
   "execution_count": 57,
   "metadata": {},
   "outputs": [],
   "source": [
    "def queryToPostfix(query):\n",
    "    tokenList = query.split()\n",
    "    postfixList = []\n",
    "    opStack = []\n",
    "    for token in tokenList:\n",
    "            if token == '(':\n",
    "                opStack.append(token)\n",
    "            elif token == ')':\n",
    "                topToken = opStack.pop()\n",
    "                while topToken != '(':\n",
    "                    postfixList.append(topToken)\n",
    "                    topToken = opStack.pop()\n",
    "            elif token == \"OR\" or token == \"AND\" or token == \"AND_NOT\":\n",
    "                opStack.append(token)\n",
    "            else:\n",
    "                postfixList.append(token)\n",
    "\n",
    "    while opStack:\n",
    "        postfixList.append(opStack.pop())\n",
    "    print(postfixList)\n",
    "    return postfixList"
   ]
  },
  {
   "cell_type": "code",
   "execution_count": 120,
   "metadata": {},
   "outputs": [],
   "source": [
    "def findPostings(logicalOp, p1, p2):\n",
    "    if logicalOp == 'OR':\n",
    "        return list(set(p1+p2))\n",
    "    elif logicalOp == 'AND':\n",
    "        return list(set(p1) & set(p2))\n",
    "    elif logicalOp == 'AND_NOT':\n",
    "        return p1"
   ]
  },
  {
   "cell_type": "code",
   "execution_count": null,
   "metadata": {},
   "outputs": [],
   "source": [
    "def wildCard_bigram_handle(token):\n",
    "    "
   ]
  },
  {
   "cell_type": "code",
   "execution_count": 128,
   "metadata": {},
   "outputs": [],
   "source": [
    "def demo_processWithIndex(query, selectedCollection,index):\n",
    "#     if os.path.exists(iic.indexPath):\n",
    "#         with open(iic.indexPath, 'r') as file:\n",
    "#             f = json.load(file)\n",
    "            \n",
    "            terms = []\n",
    "            resultList = []\n",
    "            totalPostings = []\n",
    "            postfixList = queryToPostfix(query)\n",
    "            for token in postfixList:\n",
    "                if '*' in token:\n",
    "                    wildCard_bigram_handle(token)\n",
    "            \n",
    "            # I would rather manipulate on list of postings rathe then on words\n",
    "            for token in postfixList:\n",
    "                if token == \"OR\" or token == \"AND\" or token == \"AND_NOT\":\n",
    "                    totalPostings.append([token])\n",
    "                else:\n",
    "                    p1 = []\n",
    "                    print(token+'!!!')\n",
    "                    if token in index:\n",
    "                        p1 = [d[0] for d in index[token]]\n",
    "                    totalPostings.append(p1)\n",
    "            print(totalPostings)\n",
    "            for token in totalPostings:\n",
    "                print(terms)\n",
    "                if token[0] == \"OR\" or token[0] == \"AND\" or token[0] == \"AND_NOT\":\n",
    "                    p1 = terms.pop()\n",
    "                    p2 = terms.pop()\n",
    "                    terms.append(findPostings(token[0],p1,p2))\n",
    "                else:\n",
    "                    terms.append(token)\n",
    "            return terms"
   ]
  },
  {
   "cell_type": "code",
   "execution_count": 129,
   "metadata": {
    "collapsed": true
   },
   "outputs": [
    {
     "name": "stdout",
     "output_type": "stream",
     "text": [
      "['printer', 'AND', '(', 'laser', 'OR', 'ink', ')']\n",
      "['printer', 'laser', 'ink', 'OR', 'AND']\n",
      "printer!!!\n",
      "laser!!!\n",
      "ink!!!\n",
      "[[1, 3, 6, 11, 13, 16, 18, 19, 20], [2, 3, 5, 11, 12, 16, 17, 18, 20, 22, 23], [4, 5, 9, 10, 15, 19, 20], ['OR'], ['AND']]\n",
      "[]\n",
      "[[1, 3, 6, 11, 13, 16, 18, 19, 20]]\n",
      "[[1, 3, 6, 11, 13, 16, 18, 19, 20], [2, 3, 5, 11, 12, 16, 17, 18, 20, 22, 23]]\n",
      "[[1, 3, 6, 11, 13, 16, 18, 19, 20], [2, 3, 5, 11, 12, 16, 17, 18, 20, 22, 23], [4, 5, 9, 10, 15, 19, 20]]\n",
      "[[1, 3, 6, 11, 13, 16, 18, 19, 20], [2, 3, 4, 5, 9, 10, 11, 12, 15, 16, 17, 18, 19, 20, 22, 23]]\n"
     ]
    },
    {
     "data": {
      "text/plain": [
       "[[3, 11, 16, 18, 19, 20]]"
      ]
     },
     "execution_count": 129,
     "metadata": {},
     "output_type": "execute_result"
    }
   ],
   "source": [
    "demo_processWithIndex(s,[],index)"
   ]
  },
  {
   "cell_type": "code",
   "execution_count": 72,
   "metadata": {},
   "outputs": [
    {
     "name": "stdout",
     "output_type": "stream",
     "text": [
      "[1, 3, 5, 7, 9]\n"
     ]
    }
   ],
   "source": [
    "l = [[1,2],[3,4],[5,6],[7,8],[9,0]]\n",
    "print([d[0] for d in l])"
   ]
  },
  {
   "cell_type": "code",
   "execution_count": 74,
   "metadata": {},
   "outputs": [
    {
     "name": "stdout",
     "output_type": "stream",
     "text": [
      "[1, 2, 3, 5, 6, 8, 9]\n"
     ]
    }
   ],
   "source": [
    "p1 = [1,2,3,5,6]\n",
    "p2 = [1,3,5,6,9,8]\n",
    "print(list(set(p1+p2)))"
   ]
  },
  {
   "cell_type": "code",
   "execution_count": 78,
   "metadata": {},
   "outputs": [
    {
     "name": "stdout",
     "output_type": "stream",
     "text": [
      "[4, 6]\n"
     ]
    }
   ],
   "source": [
    "y = [3,4,6,7,0]\n",
    "t = [1,2,3,4,5,6,7,8,9,0]\n",
    "pt = [2,3,5,7,9,0]\n",
    "print(list(set(y) & set([p for p in t if p not in pt])))"
   ]
  },
  {
   "cell_type": "code",
   "execution_count": 125,
   "metadata": {},
   "outputs": [],
   "source": [
    "index = {'printer':[[1,0],[3,0],[6,0],[11,0],[13,0],[16,0],[18,0],[19,0],[20,0]],\n",
    "         'laser':[[2,0],[3,0],[5,0],[11,0],[12,0],[16,0],[17,0],[18,0],[20,0],[22,0],[23,0]],\n",
    "         'ink': [[4,0],[5,0],[9,0],[10,0],[15,0],[19,0],[20,0]]         \n",
    "        }"
   ]
  },
  {
   "cell_type": "code",
   "execution_count": 127,
   "metadata": {},
   "outputs": [
    {
     "data": {
      "text/plain": [
       "[3, 11, 16, 18, 19, 20]"
      ]
     },
     "execution_count": 127,
     "metadata": {},
     "output_type": "execute_result"
    }
   ],
   "source": [
    "list(set([2,3,4,5,9,10,11,12,15,16,19,20,17,18,22,23]) & set([1,3,6,11,13,16,18,19,20]))"
   ]
  },
  {
   "cell_type": "code",
   "execution_count": 132,
   "metadata": {},
   "outputs": [
    {
     "data": {
      "text/plain": [
       "True"
      ]
     },
     "execution_count": 132,
     "metadata": {},
     "output_type": "execute_result"
    }
   ],
   "source": [
    "'*' in 'zx*c'"
   ]
  }
 ],
 "metadata": {
  "kernelspec": {
   "display_name": "Python 3",
   "language": "python",
   "name": "python3"
  },
  "language_info": {
   "codemirror_mode": {
    "name": "ipython",
    "version": 3
   },
   "file_extension": ".py",
   "mimetype": "text/x-python",
   "name": "python",
   "nbconvert_exporter": "python",
   "pygments_lexer": "ipython3",
   "version": "3.7.4"
  }
 },
 "nbformat": 4,
 "nbformat_minor": 2
}
