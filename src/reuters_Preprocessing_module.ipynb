{
 "cells": [
  {
   "cell_type": "code",
   "execution_count": 130,
   "metadata": {},
   "outputs": [],
   "source": [
    "from bs4 import BeautifulSoup as bs\n",
    "import os\n",
    "import json"
   ]
  },
  {
   "cell_type": "code",
   "execution_count": 131,
   "metadata": {},
   "outputs": [],
   "source": [
    "rssPath = '../reutersRss/reuters21578'\n",
    "dataStorage = '../output/reuterStorage.json'\n",
    "#https://stackoverflow.com/questions/3964681/find-all-files-in-a-directory-with-extension-txt-in-python\n",
    "#https://stackoverflow.com/questions/15863751/extracting-body-tags-from-smg-file-beautiful-soup-and-python"
   ]
  },
  {
   "cell_type": "code",
   "execution_count": 138,
   "metadata": {},
   "outputs": [],
   "source": [
    "def preProcess(dataPath):\n",
    "    corpus = []\n",
    "    docId = 1\n",
    "    i = 0\n",
    "    for file in os.listdir(dataPath):\n",
    "        if file.endswith(\".sgm\"):\n",
    "            with open(os.path.join(dataPath,file),'rb') as f:\n",
    "                print(os.path.join(dataPath,file))\n",
    "                data= f.read()\n",
    "                reuters = bs(data,'html.parser')\n",
    "                for s in reuters.find_all('reuters'):\n",
    "                    container = dict()\n",
    "                    container['docId'] = docId\n",
    "                    title = s.find('title')\n",
    "\n",
    "                    if not title is None and title.text:\n",
    "                        container['title'] = title.text.strip()\n",
    "                    else:\n",
    "                        container['title'] = 'NO_TITLE'\n",
    "                    topic = s.find('topics')\n",
    "                    if not topic is None and topic.text:\n",
    "                        container['topic'] = [t.text for t in topic.find_all('d')]\n",
    "                    else:\n",
    "                         container['topic'] = ['NO_TOPIC']\n",
    "                    body = s.find('body')\n",
    "                    if not body is None and body.text:\n",
    "                        # there is \" x \" quotation in the body. May need to think about it\n",
    "                        container['desc'] = \" \".join(body.text.split()).replace('\\u0003', '')\n",
    "                    else:\n",
    "                        container['desc'] = 'NO_CONTENT'\n",
    "                    corpus.append(container)\n",
    "                    docId = docId + 1\n",
    "    return corpus"
   ]
  },
  {
   "cell_type": "code",
   "execution_count": 139,
   "metadata": {},
   "outputs": [],
   "source": [
    "def getCorpus():\n",
    "    data = preProcess(rssPath)\n",
    "    with open(dataStorage,'w') as f:\n",
    "        json.dump(data, f, sort_keys=True, indent=4,ensure_ascii=False)"
   ]
  }
 ],
 "metadata": {
  "kernelspec": {
   "display_name": "Python 3",
   "language": "python",
   "name": "python3"
  },
  "language_info": {
   "codemirror_mode": {
    "name": "ipython",
    "version": 3
   },
   "file_extension": ".py",
   "mimetype": "text/x-python",
   "name": "python",
   "nbconvert_exporter": "python",
   "pygments_lexer": "ipython3",
   "version": "3.7.4"
  }
 },
 "nbformat": 4,
 "nbformat_minor": 2
}
